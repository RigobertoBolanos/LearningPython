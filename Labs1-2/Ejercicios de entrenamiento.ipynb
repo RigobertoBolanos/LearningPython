{
 "cells": [
  {
   "cell_type": "markdown",
   "metadata": {},
   "source": [
    "Python Exercises, practice\n",
    "1. Student 1: Wilmer Andrés Gómez\n",
    "1. Student 2: Juan Diego Carvajal Castaño"
   ]
  },
  {
   "cell_type": "markdown",
   "metadata": {},
   "source": [
    "1 exercise\n",
    "\n",
    "print hello world"
   ]
  },
  {
   "cell_type": "code",
   "execution_count": 1,
   "metadata": {},
   "outputs": [
    {
     "name": "stdout",
     "output_type": "stream",
     "text": [
      "hello world\n"
     ]
    }
   ],
   "source": [
    "print(\"hello world\")"
   ]
  },
  {
   "cell_type": "markdown",
   "metadata": {},
   "source": [
    "2 exercise\n",
    "\n",
    "Let's create a variable with the name variable and assign it the value \"hello world\"."
   ]
  },
  {
   "cell_type": "code",
   "execution_count": 2,
   "metadata": {},
   "outputs": [],
   "source": [
    "variable = \"hello world\""
   ]
  },
  {
   "cell_type": "markdown",
   "metadata": {},
   "source": [
    "3 exercise\n",
    "\n",
    "Print the type of variable"
   ]
  },
  {
   "cell_type": "code",
   "execution_count": 3,
   "metadata": {},
   "outputs": [
    {
     "name": "stdout",
     "output_type": "stream",
     "text": [
      "<class 'str'>\n"
     ]
    }
   ],
   "source": [
    "print(type(variable))"
   ]
  },
  {
   "cell_type": "markdown",
   "metadata": {},
   "source": [
    "4 exercise\n",
    "\n",
    "Let's remove the word \" world\" from variable"
   ]
  },
  {
   "cell_type": "code",
   "execution_count": 4,
   "metadata": {},
   "outputs": [
    {
     "name": "stdout",
     "output_type": "stream",
     "text": [
      "hello\n"
     ]
    }
   ],
   "source": [
    "variable = variable[0:5]\n",
    "print(variable)"
   ]
  },
  {
   "cell_type": "markdown",
   "metadata": {},
   "source": [
    "2 exercise\n",
    "\n",
    "Let's make a function which receives a list of number from 1 to 20 and prints only the number that are odd."
   ]
  },
  {
   "cell_type": "code",
   "execution_count": 5,
   "metadata": {
    "scrolled": true
   },
   "outputs": [
    {
     "name": "stdout",
     "output_type": "stream",
     "text": [
      "[1, 2, 3, 4, 5, 6, 7, 8, 9, 10, 11, 12, 13, 14, 15, 16, 17, 18, 19, 20]\n",
      "1\n",
      "3\n",
      "5\n",
      "7\n",
      "9\n",
      "11\n",
      "13\n",
      "15\n",
      "17\n",
      "19\n"
     ]
    }
   ],
   "source": [
    "numbers = list(range(1,21))\n",
    "print(numbers)\n",
    "\n",
    "def odds(lista):\n",
    "    for i in range(len(lista)):\n",
    "        if lista[i] % 2 != 0:\n",
    "            print(lista[i])\n",
    "\n",
    "odds(numbers)"
   ]
  },
  {
   "cell_type": "markdown",
   "metadata": {},
   "source": [
    "3 exercise\n",
    "\n",
    "Let's make a method in a Python file which receives two parameters:\n",
    "\n",
    "A list of integers\n",
    "An exponent number\n",
    "$b^{n} = b \\times \\dots \\times b$\n",
    "\n",
    "The method allows us to calculate the exponentiation of each number in the list.\n",
    "\n",
    "We must import the file and use it to call the method"
   ]
  },
  {
   "cell_type": "code",
   "execution_count": 6,
   "metadata": {},
   "outputs": [
    {
     "name": "stdout",
     "output_type": "stream",
     "text": [
      "<class 'list'>\n",
      "<class 'list'>\n",
      "1\n",
      "4\n",
      "9\n",
      "16\n"
     ]
    }
   ],
   "source": [
    "from exp import exp\n",
    "lista = list(range(1,5))\n",
    "print(type(lista))\n",
    "exp(lista,2)"
   ]
  },
  {
   "cell_type": "markdown",
   "metadata": {},
   "source": [
    "4 exercise\n",
    "\n",
    "The idea is to do a dictionary diccionario with the next keys and values:\n",
    "\n",
    "variableUno: [1,2,3,4]\n",
    "\n",
    "variableDos: [\"1\",\"a\",\"?\"]"
   ]
  },
  {
   "cell_type": "code",
   "execution_count": 7,
   "metadata": {},
   "outputs": [
    {
     "name": "stdout",
     "output_type": "stream",
     "text": [
      "{1: '1', 2: 'a', 3: '?'}\n"
     ]
    }
   ],
   "source": [
    "variableUno = [1, 2, 3, 4]\n",
    "variableDos = [\"1\", \"a\", \"?\"]\n",
    "diccionario = dict(zip(variableUno,variableDos))\n",
    "print(diccionario)"
   ]
  },
  {
   "cell_type": "markdown",
   "metadata": {},
   "source": [
    "5 exercise\n",
    "\n",
    "Change the first letter of \"Spam\" to \"z\""
   ]
  },
  {
   "cell_type": "code",
   "execution_count": 8,
   "metadata": {},
   "outputs": [
    {
     "name": "stdout",
     "output_type": "stream",
     "text": [
      "zpam\n"
     ]
    }
   ],
   "source": [
    "var=\"Spam\"\n",
    "var2=list(var)\n",
    "var2.__setitem__(0,\"z\")\n",
    "var=\"\".join(var2) \n",
    "print(var)\n"
   ]
  },
  {
   "cell_type": "markdown",
   "metadata": {},
   "source": [
    "6 exercise\n",
    "\n",
    "let's do a program which receives some parameters in order to calculate the perimeter of a rectangle.\n",
    "\n",
    "$p = 2x + 2y$"
   ]
  },
  {
   "cell_type": "code",
   "execution_count": 9,
   "metadata": {},
   "outputs": [
    {
     "name": "stdout",
     "output_type": "stream",
     "text": [
      "Valor de lado del rectangulo 'x':2\n",
      "Valor de lado del rectangulo 'y':2\n"
     ]
    },
    {
     "data": {
      "text/plain": [
       "'El perimetro del rectngulo es: 8'"
      ]
     },
     "execution_count": 9,
     "metadata": {},
     "output_type": "execute_result"
    }
   ],
   "source": [
    "x=input(\"Valor de lado del rectangulo 'x':\")\n",
    "y=input(\"Valor de lado del rectangulo 'y':\")\n",
    "z=int(x)*2\n",
    "w=int(y)*2\n",
    "\"El perimetro del rectngulo es: %s\"%(z+w)"
   ]
  },
  {
   "cell_type": "markdown",
   "metadata": {},
   "source": [
    "7 exercise\n",
    "\n",
    "Create a class that saves the name of a person, his height in meters and weights in kilograms.\n",
    "This class must have a operation which calculate the Body mass index (BMI).\n",
    "Define a list of 5 persons and print their BMI."
   ]
  },
  {
   "cell_type": "code",
   "execution_count": 10,
   "metadata": {},
   "outputs": [],
   "source": [
    "class Person(object):\n",
    "    nombre=\" \"\n",
    "    altura=0\n",
    "    peso=0\n",
    "    def __init__(name, height, weight):\n",
    "        nombre=name\n",
    "        altura=height\n",
    "        peso=weight\n",
    "        \n",
    "    def bodyMassIndex(self):\n",
    "        r=self.peso/(self.altura*self.altura)\n",
    "        return r\n",
    "    def prot():\n",
    "        print(nombre)\n",
    "\n",
    "person1= Person.__init__(\"an\",1.7,64)"
   ]
  },
  {
   "cell_type": "markdown",
   "metadata": {},
   "source": [
    "8 exercise\n",
    "\n",
    "make a program that prints the numbers from 1 to 100 If the number is divisible by 2 then print \"whiz\" if the number is divisible by 3 then print \"bang\""
   ]
  },
  {
   "cell_type": "code",
   "execution_count": 11,
   "metadata": {},
   "outputs": [
    {
     "name": "stdout",
     "output_type": "stream",
     "text": [
      "1\n",
      "2 whiz\n",
      "3 bang\n",
      "4 whiz\n",
      "5\n",
      "6 whiz bang\n",
      "7\n",
      "8 whiz\n",
      "9 bang\n",
      "10 whiz\n",
      "11\n",
      "12 whiz bang\n",
      "13\n",
      "14 whiz\n",
      "15 bang\n",
      "16 whiz\n",
      "17\n",
      "18 whiz bang\n",
      "19\n",
      "20 whiz\n",
      "21 bang\n",
      "22 whiz\n",
      "23\n",
      "24 whiz bang\n",
      "25\n",
      "26 whiz\n",
      "27 bang\n",
      "28 whiz\n",
      "29\n",
      "30 whiz bang\n",
      "31\n",
      "32 whiz\n",
      "33 bang\n",
      "34 whiz\n",
      "35\n",
      "36 whiz bang\n",
      "37\n",
      "38 whiz\n",
      "39 bang\n",
      "40 whiz\n",
      "41\n",
      "42 whiz bang\n",
      "43\n",
      "44 whiz\n",
      "45 bang\n",
      "46 whiz\n",
      "47\n",
      "48 whiz bang\n",
      "49\n",
      "50 whiz\n",
      "51 bang\n",
      "52 whiz\n",
      "53\n",
      "54 whiz bang\n",
      "55\n",
      "56 whiz\n",
      "57 bang\n",
      "58 whiz\n",
      "59\n",
      "60 whiz bang\n",
      "61\n",
      "62 whiz\n",
      "63 bang\n",
      "64 whiz\n",
      "65\n",
      "66 whiz bang\n",
      "67\n",
      "68 whiz\n",
      "69 bang\n",
      "70 whiz\n",
      "71\n",
      "72 whiz bang\n",
      "73\n",
      "74 whiz\n",
      "75 bang\n",
      "76 whiz\n",
      "77\n",
      "78 whiz bang\n",
      "79\n",
      "80 whiz\n",
      "81 bang\n",
      "82 whiz\n",
      "83\n",
      "84 whiz bang\n",
      "85\n",
      "86 whiz\n",
      "87 bang\n",
      "88 whiz\n",
      "89\n",
      "90 whiz bang\n",
      "91\n",
      "92 whiz\n",
      "93 bang\n",
      "94 whiz\n",
      "95\n",
      "96 whiz bang\n",
      "97\n",
      "98 whiz\n",
      "99 bang\n",
      "100 whiz\n"
     ]
    }
   ],
   "source": [
    "number=0\n",
    "for i in range(1,101):\n",
    "    message=str(i)\n",
    "    if(i%2==0):\n",
    "        message+=\" whiz\"\n",
    "    if(i%3==0):\n",
    "        message+=\" bang\"\n",
    "    print(message)"
   ]
  }
 ],
 "metadata": {
  "kernelspec": {
   "display_name": "Python 3",
   "language": "python",
   "name": "python3"
  },
  "language_info": {
   "codemirror_mode": {
    "name": "ipython",
    "version": 3
   },
   "file_extension": ".py",
   "mimetype": "text/x-python",
   "name": "python",
   "nbconvert_exporter": "python",
   "pygments_lexer": "ipython3",
   "version": "3.7.3"
  }
 },
 "nbformat": 4,
 "nbformat_minor": 2
}
